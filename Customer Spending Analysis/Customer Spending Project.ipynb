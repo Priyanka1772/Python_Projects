{
 "cells": [
  {
   "cell_type": "markdown",
   "id": "2f9c6c35",
   "metadata": {},
   "source": [
    "# Project: \"Customer Spending Analysis across Regions using Python\""
   ]
  },
  {
   "cell_type": "markdown",
   "id": "059fa878",
   "metadata": {},
   "source": [
    "##  Objective: Analyze customer spending data from different regions over the year. You'll extract insights such as:\n",
    "#### Q1: Total & average spending per region\n",
    "#### Q2: Detect regional trends and seasonal spikes\n",
    "#### Q3: Compute correlations between regions"
   ]
  },
  {
   "cell_type": "code",
   "execution_count": null,
   "id": "e5f35b63",
   "metadata": {},
   "outputs": [],
   "source": [
    "# Q4: Identify months with unusual patterns\n",
    "# Z-score normalization for anomaly detection"
   ]
  },
  {
   "cell_type": "code",
   "execution_count": 3,
   "id": "65a5356d",
   "metadata": {},
   "outputs": [],
   "source": [
    "# Importing relevant libraries\n",
    "import numpy as np \n",
    "import pandas as pd\n",
    "import matplotlib.pyplot as plt"
   ]
  },
  {
   "cell_type": "code",
   "execution_count": 4,
   "id": "75a8bb41",
   "metadata": {},
   "outputs": [
    {
     "data": {
      "text/html": [
       "<div>\n",
       "<style scoped>\n",
       "    .dataframe tbody tr th:only-of-type {\n",
       "        vertical-align: middle;\n",
       "    }\n",
       "\n",
       "    .dataframe tbody tr th {\n",
       "        vertical-align: top;\n",
       "    }\n",
       "\n",
       "    .dataframe thead th {\n",
       "        text-align: right;\n",
       "    }\n",
       "</style>\n",
       "<table border=\"1\" class=\"dataframe\">\n",
       "  <thead>\n",
       "    <tr style=\"text-align: right;\">\n",
       "      <th></th>\n",
       "      <th>Month</th>\n",
       "      <th>North</th>\n",
       "      <th>South</th>\n",
       "      <th>East</th>\n",
       "      <th>West</th>\n",
       "    </tr>\n",
       "  </thead>\n",
       "  <tbody>\n",
       "    <tr>\n",
       "      <th>0</th>\n",
       "      <td>Jan</td>\n",
       "      <td>1200</td>\n",
       "      <td>1500</td>\n",
       "      <td>1100</td>\n",
       "      <td>1300</td>\n",
       "    </tr>\n",
       "    <tr>\n",
       "      <th>1</th>\n",
       "      <td>Feb</td>\n",
       "      <td>1250</td>\n",
       "      <td>1450</td>\n",
       "      <td>1150</td>\n",
       "      <td>1350</td>\n",
       "    </tr>\n",
       "    <tr>\n",
       "      <th>2</th>\n",
       "      <td>Mar</td>\n",
       "      <td>1300</td>\n",
       "      <td>1480</td>\n",
       "      <td>1200</td>\n",
       "      <td>1400</td>\n",
       "    </tr>\n",
       "    <tr>\n",
       "      <th>3</th>\n",
       "      <td>Apr</td>\n",
       "      <td>1350</td>\n",
       "      <td>1490</td>\n",
       "      <td>1250</td>\n",
       "      <td>1450</td>\n",
       "    </tr>\n",
       "    <tr>\n",
       "      <th>4</th>\n",
       "      <td>May</td>\n",
       "      <td>1400</td>\n",
       "      <td>1500</td>\n",
       "      <td>1300</td>\n",
       "      <td>1500</td>\n",
       "    </tr>\n",
       "    <tr>\n",
       "      <th>5</th>\n",
       "      <td>Jun</td>\n",
       "      <td>1450</td>\n",
       "      <td>1520</td>\n",
       "      <td>1350</td>\n",
       "      <td>1600</td>\n",
       "    </tr>\n",
       "    <tr>\n",
       "      <th>6</th>\n",
       "      <td>Jul</td>\n",
       "      <td>1500</td>\n",
       "      <td>1550</td>\n",
       "      <td>1400</td>\n",
       "      <td>1650</td>\n",
       "    </tr>\n",
       "    <tr>\n",
       "      <th>7</th>\n",
       "      <td>Aug</td>\n",
       "      <td>1550</td>\n",
       "      <td>1600</td>\n",
       "      <td>1450</td>\n",
       "      <td>1700</td>\n",
       "    </tr>\n",
       "    <tr>\n",
       "      <th>8</th>\n",
       "      <td>Sep</td>\n",
       "      <td>1600</td>\n",
       "      <td>1620</td>\n",
       "      <td>1500</td>\n",
       "      <td>1750</td>\n",
       "    </tr>\n",
       "    <tr>\n",
       "      <th>9</th>\n",
       "      <td>Oct</td>\n",
       "      <td>1650</td>\n",
       "      <td>1650</td>\n",
       "      <td>1550</td>\n",
       "      <td>1800</td>\n",
       "    </tr>\n",
       "    <tr>\n",
       "      <th>10</th>\n",
       "      <td>Nov</td>\n",
       "      <td>1700</td>\n",
       "      <td>1700</td>\n",
       "      <td>1600</td>\n",
       "      <td>1900</td>\n",
       "    </tr>\n",
       "    <tr>\n",
       "      <th>11</th>\n",
       "      <td>Dec</td>\n",
       "      <td>1750</td>\n",
       "      <td>1750</td>\n",
       "      <td>1650</td>\n",
       "      <td>2000</td>\n",
       "    </tr>\n",
       "  </tbody>\n",
       "</table>\n",
       "</div>"
      ],
      "text/plain": [
       "   Month  North  South  East  West\n",
       "0    Jan   1200   1500  1100  1300\n",
       "1    Feb   1250   1450  1150  1350\n",
       "2    Mar   1300   1480  1200  1400\n",
       "3    Apr   1350   1490  1250  1450\n",
       "4    May   1400   1500  1300  1500\n",
       "5    Jun   1450   1520  1350  1600\n",
       "6    Jul   1500   1550  1400  1650\n",
       "7    Aug   1550   1600  1450  1700\n",
       "8    Sep   1600   1620  1500  1750\n",
       "9    Oct   1650   1650  1550  1800\n",
       "10   Nov   1700   1700  1600  1900\n",
       "11   Dec   1750   1750  1650  2000"
      ]
     },
     "execution_count": 4,
     "metadata": {},
     "output_type": "execute_result"
    }
   ],
   "source": [
    "# Reading the dataset\n",
    "data = pd.read_csv('Customer_Spending_Data.csv')\n",
    "data"
   ]
  },
  {
   "cell_type": "code",
   "execution_count": 25,
   "id": "a26f5879",
   "metadata": {},
   "outputs": [
    {
     "name": "stdout",
     "output_type": "stream",
     "text": [
      "['Jan' 'Feb' 'Mar' 'Apr' 'May' 'Jun' 'Jul' 'Aug' 'Sep' 'Oct' 'Nov' 'Dec']\n",
      "Index(['North', 'South', 'East', 'West'], dtype='object')\n",
      "[[1200 1500 1100 1300]\n",
      " [1250 1450 1150 1350]\n",
      " [1300 1480 1200 1400]\n",
      " [1350 1490 1250 1450]\n",
      " [1400 1500 1300 1500]\n",
      " [1450 1520 1350 1600]\n",
      " [1500 1550 1400 1650]\n",
      " [1550 1600 1450 1700]\n",
      " [1600 1620 1500 1750]\n",
      " [1650 1650 1550 1800]\n",
      " [1700 1700 1600 1900]\n",
      " [1750 1750 1650 2000]]\n"
     ]
    }
   ],
   "source": [
    "# Preparing the data\n",
    "months = data['Month'].values\n",
    "regions = data.columns[1:]\n",
    "regions_data = data.drop(columns = 'Month').values\n",
    "\n",
    "print(months)\n",
    "print(regions)\n",
    "print(regions_data)"
   ]
  },
  {
   "cell_type": "code",
   "execution_count": 26,
   "id": "7e783c11",
   "metadata": {},
   "outputs": [
    {
     "name": "stdout",
     "output_type": "stream",
     "text": [
      "North:- Total: $17700; Average: $1475.00\n",
      "South:- Total: $18810; Average: $1567.50\n",
      "East:- Total: $16500; Average: $1375.00\n",
      "West:- Total: $19400; Average: $1616.67\n"
     ]
    }
   ],
   "source": [
    "# Q1\n",
    "total = np.sum(regions_data, axis = 0)\n",
    "avg = np.mean(regions_data, axis = 0)\n",
    "\n",
    "for i, region in enumerate(regions):\n",
    "    print(f\"{region}:- Total: ${total[i]}; Average: ${avg[i]:.2f}\")"
   ]
  },
  {
   "cell_type": "code",
   "execution_count": 30,
   "id": "ee144b09",
   "metadata": {},
   "outputs": [
    {
     "name": "stdout",
     "output_type": "stream",
     "text": [
      "North:- Highest in Dec; Lowest in Jan\n",
      "South:- Highest in Dec; Lowest in Feb\n",
      "East:- Highest in Dec; Lowest in Jan\n",
      "West:- Highest in Dec; Lowest in Jan\n"
     ]
    }
   ],
   "source": [
    "# Q2: Highest\n",
    "month_max = months[np.argmax(regions_data, axis = 0)]\n",
    "month_min = months[np.argmin(regions_data, axis = 0)]\n",
    "\n",
    "for i, region in enumerate(regions):\n",
    "    print(f\"{region}:- Highest in {month_max[i]}; Lowest in {month_min[i]}\")"
   ]
  },
  {
   "cell_type": "code",
   "execution_count": 33,
   "id": "23d9d813",
   "metadata": {},
   "outputs": [
    {
     "name": "stdout",
     "output_type": "stream",
     "text": [
      "Correlation between regions:\n",
      "[[1.         0.94507918 1.         0.99529852]\n",
      " [0.94507918 1.         0.94507918 0.95933055]\n",
      " [1.         0.94507918 1.         0.99529852]\n",
      " [0.99529852 0.95933055 0.99529852 1.        ]]\n"
     ]
    }
   ],
   "source": [
    "# Q3: Trend similarity \n",
    "correlation = np.corrcoef(regions_data.T)\n",
    "\n",
    "print(\"Correlation between regions:\")\n",
    "print(correlation)"
   ]
  },
  {
   "cell_type": "code",
   "execution_count": 45,
   "id": "cbb679b3",
   "metadata": {},
   "outputs": [
    {
     "name": "stdout",
     "output_type": "stream",
     "text": [
      "Month over Month Change: \n",
      "\n",
      "North:- \n",
      "Jan -> Feb: 50\n",
      "Feb -> Mar: 50\n",
      "Mar -> Apr: 50\n",
      "Apr -> May: 50\n",
      "May -> Jun: 50\n",
      "Jun -> Jul: 50\n",
      "Jul -> Aug: 50\n",
      "Aug -> Sep: 50\n",
      "Sep -> Oct: 50\n",
      "Oct -> Nov: 50\n",
      "Nov -> Dec: 50\n",
      "South:- \n",
      "Jan -> Feb: -50\n",
      "Feb -> Mar: 30\n",
      "Mar -> Apr: 10\n",
      "Apr -> May: 10\n",
      "May -> Jun: 20\n",
      "Jun -> Jul: 30\n",
      "Jul -> Aug: 50\n",
      "Aug -> Sep: 20\n",
      "Sep -> Oct: 30\n",
      "Oct -> Nov: 50\n",
      "Nov -> Dec: 50\n",
      "East:- \n",
      "Jan -> Feb: 50\n",
      "Feb -> Mar: 50\n",
      "Mar -> Apr: 50\n",
      "Apr -> May: 50\n",
      "May -> Jun: 50\n",
      "Jun -> Jul: 50\n",
      "Jul -> Aug: 50\n",
      "Aug -> Sep: 50\n",
      "Sep -> Oct: 50\n",
      "Oct -> Nov: 50\n",
      "Nov -> Dec: 50\n",
      "West:- \n",
      "Jan -> Feb: 50\n",
      "Feb -> Mar: 50\n",
      "Mar -> Apr: 50\n",
      "Apr -> May: 50\n",
      "May -> Jun: 100\n",
      "Jun -> Jul: 50\n",
      "Jul -> Aug: 50\n",
      "Aug -> Sep: 50\n",
      "Sep -> Oct: 50\n",
      "Oct -> Nov: 100\n",
      "Nov -> Dec: 100\n"
     ]
    }
   ],
   "source": [
    "# Q4\n",
    "change = np.diff(regions_data, axis = 0)\n",
    "\n",
    "#print(change)\n",
    "\n",
    "print(\"Month over Month Change: \\n\")\n",
    "for i, region in enumerate(regions):\n",
    "    print(f\"{region}:- \")\n",
    "    for j in range(len(change)):\n",
    "        print(f\"{months[j]} -> {months[j+1]}: {change[j][i]}\")"
   ]
  }
 ],
 "metadata": {
  "kernelspec": {
   "display_name": "Python 3 (ipykernel)",
   "language": "python",
   "name": "python3"
  },
  "language_info": {
   "codemirror_mode": {
    "name": "ipython",
    "version": 3
   },
   "file_extension": ".py",
   "mimetype": "text/x-python",
   "name": "python",
   "nbconvert_exporter": "python",
   "pygments_lexer": "ipython3",
   "version": "3.9.13"
  }
 },
 "nbformat": 4,
 "nbformat_minor": 5
}
