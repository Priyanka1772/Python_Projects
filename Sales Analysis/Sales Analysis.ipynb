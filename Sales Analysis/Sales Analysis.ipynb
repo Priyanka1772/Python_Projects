{
 "cells": [
  {
   "cell_type": "markdown",
   "id": "422cfbb7",
   "metadata": {},
   "source": [
    "# \"Project: Sales Data Analytics using Python\""
   ]
  },
  {
   "cell_type": "markdown",
   "id": "96cecdeb",
   "metadata": {},
   "source": [
    "## Goal: Analyze a simple dataset of monthly sales to extract insights like:\n",
    "#### Q1: Total sales\n",
    "#### Q2: Average monthly sales\n",
    "#### Q3: Highest & lowest performing months\n",
    "#### Q4: Month-over-month changes \n",
    "#### Q5: Plot the data"
   ]
  },
  {
   "cell_type": "code",
   "execution_count": 24,
   "id": "6d529fb7",
   "metadata": {},
   "outputs": [],
   "source": [
    "# Importing relevant libraries\n",
    "import numpy as np\n",
    "import pandas as pd\n",
    "import matplotlib.pyplot as plt"
   ]
  },
  {
   "cell_type": "code",
   "execution_count": 10,
   "id": "28518133",
   "metadata": {},
   "outputs": [
    {
     "data": {
      "text/html": [
       "<div>\n",
       "<style scoped>\n",
       "    .dataframe tbody tr th:only-of-type {\n",
       "        vertical-align: middle;\n",
       "    }\n",
       "\n",
       "    .dataframe tbody tr th {\n",
       "        vertical-align: top;\n",
       "    }\n",
       "\n",
       "    .dataframe thead th {\n",
       "        text-align: right;\n",
       "    }\n",
       "</style>\n",
       "<table border=\"1\" class=\"dataframe\">\n",
       "  <thead>\n",
       "    <tr style=\"text-align: right;\">\n",
       "      <th></th>\n",
       "      <th>Months</th>\n",
       "      <th>Sales</th>\n",
       "    </tr>\n",
       "  </thead>\n",
       "  <tbody>\n",
       "    <tr>\n",
       "      <th>0</th>\n",
       "      <td>Jan</td>\n",
       "      <td>1000</td>\n",
       "    </tr>\n",
       "    <tr>\n",
       "      <th>1</th>\n",
       "      <td>Feb</td>\n",
       "      <td>1500</td>\n",
       "    </tr>\n",
       "    <tr>\n",
       "      <th>2</th>\n",
       "      <td>Mar</td>\n",
       "      <td>1300</td>\n",
       "    </tr>\n",
       "    <tr>\n",
       "      <th>3</th>\n",
       "      <td>Apr</td>\n",
       "      <td>1700</td>\n",
       "    </tr>\n",
       "    <tr>\n",
       "      <th>4</th>\n",
       "      <td>May</td>\n",
       "      <td>1600</td>\n",
       "    </tr>\n",
       "    <tr>\n",
       "      <th>5</th>\n",
       "      <td>Jun</td>\n",
       "      <td>1800</td>\n",
       "    </tr>\n",
       "    <tr>\n",
       "      <th>6</th>\n",
       "      <td>Jul</td>\n",
       "      <td>2000</td>\n",
       "    </tr>\n",
       "    <tr>\n",
       "      <th>7</th>\n",
       "      <td>Aug</td>\n",
       "      <td>1900</td>\n",
       "    </tr>\n",
       "    <tr>\n",
       "      <th>8</th>\n",
       "      <td>Sep</td>\n",
       "      <td>2100</td>\n",
       "    </tr>\n",
       "    <tr>\n",
       "      <th>9</th>\n",
       "      <td>Oct</td>\n",
       "      <td>2200</td>\n",
       "    </tr>\n",
       "    <tr>\n",
       "      <th>10</th>\n",
       "      <td>Nov</td>\n",
       "      <td>2500</td>\n",
       "    </tr>\n",
       "    <tr>\n",
       "      <th>11</th>\n",
       "      <td>Dec</td>\n",
       "      <td>2300</td>\n",
       "    </tr>\n",
       "  </tbody>\n",
       "</table>\n",
       "</div>"
      ],
      "text/plain": [
       "   Months  Sales\n",
       "0     Jan   1000\n",
       "1     Feb   1500\n",
       "2     Mar   1300\n",
       "3     Apr   1700\n",
       "4     May   1600\n",
       "5     Jun   1800\n",
       "6     Jul   2000\n",
       "7     Aug   1900\n",
       "8     Sep   2100\n",
       "9     Oct   2200\n",
       "10    Nov   2500\n",
       "11    Dec   2300"
      ]
     },
     "execution_count": 10,
     "metadata": {},
     "output_type": "execute_result"
    }
   ],
   "source": [
    "# Reading the dataset\n",
    "data = pd.read_csv('Sales_Data.csv')\n",
    "data"
   ]
  },
  {
   "cell_type": "code",
   "execution_count": 12,
   "id": "a4c1bae6",
   "metadata": {},
   "outputs": [
    {
     "name": "stdout",
     "output_type": "stream",
     "text": [
      "['Jan' 'Feb' 'Mar' 'Apr' 'May' 'Jun' 'Jul' 'Aug' 'Sep' 'Oct' 'Nov' 'Dec']\n",
      "[1000 1500 1300 1700 1600 1800 2000 1900 2100 2200 2500 2300]\n"
     ]
    }
   ],
   "source": [
    "# Preparing the data\n",
    "months = data['Months'].values\n",
    "sales = data['Sales'].values\n",
    "\n",
    "print(months)\n",
    "print(sales)"
   ]
  },
  {
   "cell_type": "code",
   "execution_count": 13,
   "id": "7addb3ba",
   "metadata": {},
   "outputs": [
    {
     "name": "stdout",
     "output_type": "stream",
     "text": [
      "Total sales: $21900\n"
     ]
    }
   ],
   "source": [
    "# Q1\n",
    "total_sales = np.sum(sales)\n",
    "\n",
    "print(f\"Total sales: ${total_sales}\")"
   ]
  },
  {
   "cell_type": "code",
   "execution_count": 14,
   "id": "a759e7ce",
   "metadata": {},
   "outputs": [
    {
     "name": "stdout",
     "output_type": "stream",
     "text": [
      "Average sales: $1825.0\n"
     ]
    }
   ],
   "source": [
    "# Q2\n",
    "avg_sales = np.mean(sales)\n",
    "\n",
    "print(f\"Average sales: ${avg_sales}\")"
   ]
  },
  {
   "cell_type": "code",
   "execution_count": 19,
   "id": "ea2d45db",
   "metadata": {},
   "outputs": [
    {
     "name": "stdout",
     "output_type": "stream",
     "text": [
      "Highest Sale: $2500 in Nov\n",
      "Lowest Sale: $1000 in Jan\n"
     ]
    }
   ],
   "source": [
    "# Q3: Highest\n",
    "month_max = months[np.argmax(sales)]\n",
    "\n",
    "print(f\"Highest Sale: ${max(sales)} in {month_max}\")\n",
    "\n",
    "# Q3: Lowest\n",
    "month_min = months[np.argmin(sales)]\n",
    "\n",
    "print(f\"Lowest Sale: ${min(sales)} in {month_min}\")"
   ]
  },
  {
   "cell_type": "code",
   "execution_count": 23,
   "id": "103d94ef",
   "metadata": {},
   "outputs": [
    {
     "name": "stdout",
     "output_type": "stream",
     "text": [
      "Month over month changes:\n",
      "Feb to Jan: $500\n",
      "Mar to Feb: $-200\n",
      "Apr to Mar: $400\n",
      "May to Apr: $-100\n",
      "Jun to May: $200\n",
      "Jul to Jun: $200\n",
      "Aug to Jul: $-100\n",
      "Sep to Aug: $200\n",
      "Oct to Sep: $100\n",
      "Nov to Oct: $300\n",
      "Dec to Nov: $-200\n"
     ]
    }
   ],
   "source": [
    "# Q4\n",
    "change = np.diff(sales)\n",
    "\n",
    "print(\"Month over month changes:\")\n",
    "for i in range(len(change)):\n",
    "    print(f\"{months[i+1]} to {months[i]}: ${change[i]}\")"
   ]
  },
  {
   "cell_type": "code",
   "execution_count": 26,
   "id": "1252a0db",
   "metadata": {},
   "outputs": [
    {
     "data": {
      "image/png": "[encoded data removed]",
      "text/plain": [
       "<Figure size 640x480 with 1 Axes>"
      ]
     },
     "metadata": {},
     "output_type": "display_data"
    }
   ],
   "source": [
    "# Q5\n",
    "plt.plot(months, sales, marker = 'o')\n",
    "plt.title('Monthly Sales Overview')\n",
    "plt.xlabel('Months')\n",
    "plt.ylabel('Sales in $')\n",
    "plt.grid(True)\n",
    "plt.show() "
   ]
  }
 ],
 "metadata": {
  "kernelspec": {
   "display_name": "Python 3 (ipykernel)",
   "language": "python",
   "name": "python3"
  },
  "language_info": {
   "codemirror_mode": {
    "name": "ipython",
    "version": 3
   },
   "file_extension": ".py",
   "mimetype": "text/x-python",
   "name": "python",
   "nbconvert_exporter": "python",
   "pygments_lexer": "ipython3",
   "version": "3.9.13"
  }
 },
 "nbformat": 4,
 "nbformat_minor": 5
}
