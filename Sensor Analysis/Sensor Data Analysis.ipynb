{
 "cells": [
  {
   "cell_type": "markdown",
   "id": "403fc5e1",
   "metadata": {},
   "source": [
    "# Sensor Data Analysis (IoT Project)\n",
    "\n",
    "## Project Goal: Filter out noise from temperature sensor readings.\n",
    "#### [NumPy Functions: mean, std, convolve]"
   ]
  },
  {
   "cell_type": "code",
   "execution_count": 2,
   "id": "e636c183",
   "metadata": {},
   "outputs": [],
   "source": [
    "# Importing relevant libraries\n",
    "\n",
    "import numpy as np"
   ]
  },
  {
   "cell_type": "code",
   "execution_count": 3,
   "id": "e2143680",
   "metadata": {},
   "outputs": [],
   "source": [
    "# Simulated noisy temperature data\n",
    "\n",
    "temp_readings = np.array([22.5, 22.7, 150.0, 22.6, 22.8])  # 150.0 is an outlier"
   ]
  },
  {
   "cell_type": "code",
   "execution_count": 4,
   "id": "33955d4d",
   "metadata": {},
   "outputs": [
    {
     "name": "stdout",
     "output_type": "stream",
     "text": [
      "Cleaned Readings: [22.5 22.7 22.7 22.6 22.8]\n"
     ]
    }
   ],
   "source": [
    "# Replace outlier with median\n",
    "\n",
    "median = np.median(temp_readings)\n",
    "cleaned = np.where(temp_readings > 100, median, temp_readings)\n",
    "\n",
    "print(\"Cleaned Readings:\", cleaned)"
   ]
  }
 ],
 "metadata": {
  "kernelspec": {
   "display_name": "Python 3 (ipykernel)",
   "language": "python",
   "name": "python3"
  },
  "language_info": {
   "codemirror_mode": {
    "name": "ipython",
    "version": 3
   },
   "file_extension": ".py",
   "mimetype": "text/x-python",
   "name": "python",
   "nbconvert_exporter": "python",
   "pygments_lexer": "ipython3",
   "version": "3.9.13"
  }
 },
 "nbformat": 4,
 "nbformat_minor": 5
}
